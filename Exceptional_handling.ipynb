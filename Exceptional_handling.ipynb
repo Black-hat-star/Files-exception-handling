{
 "cells": [
  {
   "cell_type": "raw",
   "id": "f9e43a4a-1048-46bb-a4f9-936b144b15e4",
   "metadata": {},
   "source": [
    "1)Exception is a runtime error that occurs during the execution of the programme.\n",
    "Exceptions:-\n",
    "It occurs during runtime of programme\n",
    "They are caused by logical errors or unforeseen circumstances.\n",
    "e.g zerodivisionerror,filenotfounderror etc\n",
    "\n",
    "Syntax errors:-\n",
    "It occurs when there is a violation of grammar rule in python language ,\n",
    "such as spelling mistakes,missing colons,incorrect indentation"
   ]
  },
  {
   "cell_type": "raw",
   "id": "3f6b1e0e-8367-481c-bec8-d6d4c076d6e5",
   "metadata": {},
   "source": [
    "2)When an exception is not handled in Python, it will propagate up the call stack until it either encounters a suitable exception handler or reaches the top level of the program. If the exception is not caught anywhere, the program will terminate, and Python will print a traceback message that provides information about the exception and where it occurred."
   ]
  },
  {
   "cell_type": "code",
   "execution_count": 6,
   "id": "16476368-fbb0-49af-b80b-b5d9f5a54d79",
   "metadata": {},
   "outputs": [
    {
     "name": "stdout",
     "output_type": "stream",
     "text": [
      "this is my except block [Errno 2] No such file or directory: 'rajat45.txt'\n"
     ]
    }
   ],
   "source": [
    "try:\n",
    "    f=open(\"rajat45.txt\",\"r\")\n",
    "except Exception as e:\n",
    "    print(\"this is my except block\",e)\n",
    "        "
   ]
  },
  {
   "cell_type": "raw",
   "id": "c848ff3f-9755-4e94-a6e5-6f631307b287",
   "metadata": {},
   "source": [
    "##3)\n",
    "To catch and handle exception in python we use try and except syntax "
   ]
  },
  {
   "cell_type": "code",
   "execution_count": 7,
   "id": "72edf338-5dea-4f58-8ffb-9eae4242b8dc",
   "metadata": {},
   "outputs": [
    {
     "name": "stdout",
     "output_type": "stream",
     "text": [
      "this is my except block [Errno 2] No such file or directory: 'rajat45.txt'\n"
     ]
    }
   ],
   "source": [
    "try:\n",
    "    f=open(\"rajat45.txt\",\"r\")\n",
    "except Exception as e:\n",
    "    print(\"this is my except block\",e)\n",
    "        "
   ]
  },
  {
   "cell_type": "raw",
   "id": "1ee1cee6-100e-407e-ab4a-3630b31fc77a",
   "metadata": {},
   "source": [
    "4)The try block is used to enclose a section of code where an exception might occur.The else block is executed if no exceptions are raised in the try block.\n",
    "Finally:the finally block is used to define a block of code that will be executed no matter what whether an exception is raised or not.\n",
    "Raise:-The raise statement is used to explicitly raise an exception .it can be used to signal that a certain condition has ocuured"
   ]
  },
  {
   "cell_type": "code",
   "execution_count": 8,
   "id": "54994119-2f8c-41e4-b897-b321357053d5",
   "metadata": {},
   "outputs": [
    {
     "name": "stdout",
     "output_type": "stream",
     "text": [
      "The result of the division is: 5.0\n",
      "Error: Cannot divide by zero.\n"
     ]
    }
   ],
   "source": [
    "def divide_numbers(x, y):\n",
    "    try:\n",
    "        result = x / y\n",
    "    except ZeroDivisionError:\n",
    "        print(\"Error: Cannot divide by zero.\")\n",
    "    else:\n",
    "        print(f\"The result of the division is: {result}\")\n",
    "\n",
    "# Example usage\n",
    "divide_numbers(10, 2)  # This will print the result\n",
    "divide_numbers(10, 0)  # This will print the error message\n"
   ]
  },
  {
   "cell_type": "code",
   "execution_count": 9,
   "id": "87c0be05-4be3-4e18-9966-d2e22a0f7e73",
   "metadata": {},
   "outputs": [
    {
     "name": "stdout",
     "output_type": "stream",
     "text": [
      "Error: File not found.\n",
      "Error: File not found.\n"
     ]
    }
   ],
   "source": [
    "def read_file(file_path):\n",
    "    try:\n",
    "        file = open(file_path, 'r')\n",
    "        content = file.read()\n",
    "        print(f\"File content: {content}\")\n",
    "    except FileNotFoundError:\n",
    "        print(\"Error: File not found.\")\n",
    "    finally:\n",
    "        if 'file' in locals():\n",
    "            file.close()\n",
    "            print(\"File closed.\")\n",
    "\n",
    "# Example usage\n",
    "read_file('example.txt')  # Assuming 'example.txt' exists\n",
    "read_file('nonexistent.txt')  # Assuming 'nonexistent.txt' does not exist\n"
   ]
  },
  {
   "cell_type": "code",
   "execution_count": 10,
   "id": "9a67c49a-3034-4055-86c2-a160529e894d",
   "metadata": {},
   "outputs": [
    {
     "name": "stdout",
     "output_type": "stream",
     "text": [
      "Error: Age cannot be negative.\n",
      "You are an adult.\n"
     ]
    }
   ],
   "source": [
    "def check_age(age):\n",
    "    if age < 0:\n",
    "        raise ValueError(\"Age cannot be negative.\")\n",
    "    elif age < 18:\n",
    "        print(\"You are a minor.\")\n",
    "    else:\n",
    "        print(\"You are an adult.\")\n",
    "\n",
    "# Example usage\n",
    "try:\n",
    "    check_age(-5)  # This will raise a ValueError\n",
    "except ValueError as e:\n",
    "    print(f\"Error: {e}\")\n",
    "\n",
    "check_age(20)  # This will print \"You are an adult.\"\n"
   ]
  },
  {
   "cell_type": "raw",
   "id": "80b4f786-ef0c-4ce2-bfc1-d5abd60977d7",
   "metadata": {},
   "source": [
    "5) custom exceptions are user-defined exceptions that extend the built-in Exception class or one of its subclasses. Creating custom exceptions allows you to define and raise exceptions that are specific to your application or module. This can make your code more readable, maintainable, and provide better context when handling errors in your program.\n",
    "\n",
    "Expressiveness and Readability: Custom exceptions allow you to create more meaningful and descriptive error messages. This makes it easier for developers to understand what went wrong when an exception is raised.\n",
    "\n",
    "Modularity: By defining custom exceptions, you can encapsulate error-handling logic in specific modules or components. This enhances the modularity of your code and makes it easier to manage errors in a structured way.\n",
    "\n",
    "Hierarchy: You can create a hierarchy of custom exceptions by inheriting from existing exception classes. This allows you to handle exceptions at different levels, providing more granular control over error conditions\n"
   ]
  },
  {
   "cell_type": "raw",
   "id": "5808c6cb-8a4d-4ef6-bbcc-7e884391a478",
   "metadata": {},
   "source": [
    "6)"
   ]
  }
 ],
 "metadata": {
  "kernelspec": {
   "display_name": "Python 3 (ipykernel)",
   "language": "python",
   "name": "python3"
  },
  "language_info": {
   "codemirror_mode": {
    "name": "ipython",
    "version": 3
   },
   "file_extension": ".py",
   "mimetype": "text/x-python",
   "name": "python",
   "nbconvert_exporter": "python",
   "pygments_lexer": "ipython3",
   "version": "3.10.8"
  }
 },
 "nbformat": 4,
 "nbformat_minor": 5
}
